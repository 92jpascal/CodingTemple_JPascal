{
 "cells": [
  {
   "cell_type": "markdown",
   "metadata": {},
   "source": [
    "# Exercises"
   ]
  },
  {
   "cell_type": "markdown",
   "metadata": {},
   "source": [
    "### Exercise #1 <br>\n",
    "<p>Reverse the list below in-place using an in-place algorithm.<br>For extra credit: Reverse the strings at the same time.</p>"
   ]
  },
  {
   "cell_type": "code",
   "execution_count": 42,
   "metadata": {},
   "outputs": [
    {
     "name": "stdout",
     "output_type": "stream",
     "text": [
      "Before: ['this', 'is', 'a', 'sentence', '.']\n",
      "After: ['.', 'ecnetnes', 'a', 'si', 'siht']\n"
     ]
    }
   ],
   "source": [
    "words = ['this' , 'is', 'a', 'sentence', '.']\n",
    "\n",
    "def reverses(a_list):\n",
    "    an_index = 0\n",
    "    while an_index != len(a_list) // 2:\n",
    "        a_list[an_index], a_list[len(a_list) - an_index - 1] = a_list[len(a_list) - an_index - 1], a_list[an_index]\n",
    "        an_index += 1\n",
    "    for each_string in range(len(a_list)):\n",
    "        reversed_string = ''\n",
    "        \n",
    "        for one_character in range(len(a_list[each_string]) - 1, -1, -1):\n",
    "            reversed_string += a_list[each_string][one_character]\n",
    "        a_list[each_string] = reversed_string\n",
    "    return a_list\n",
    "\n",
    "print('Before:', words)\n",
    "\n",
    "print('After:', reverses(words))\n"
   ]
  },
  {
   "cell_type": "markdown",
   "metadata": {},
   "source": [
    "### Exercise #2 <br>\n",
    "<p>Create a function that counts how many distinct words are in the string below, then outputs a dictionary with the words as the key and the value as the amount of times that word appears in the string.<br>Should output:<br>{'a': 5,<br>\n",
    " 'abstract': 1,<br>\n",
    " 'an': 3,<br>\n",
    " 'array': 2, ... etc...</p>"
   ]
  },
  {
   "cell_type": "code",
   "execution_count": 74,
   "metadata": {},
   "outputs": [
    {
     "data": {
      "text/plain": [
       "{'a': 5,\n",
       " 'abstract': 1,\n",
       " 'an': 3,\n",
       " 'array': 2,\n",
       " 'associative': 1,\n",
       " 'be': 1,\n",
       " 'buckets': 1,\n",
       " 'can': 2,\n",
       " 'compute': 1,\n",
       " 'computing,': 1,\n",
       " 'data': 2,\n",
       " 'desired': 1,\n",
       " 'found': 1,\n",
       " 'from': 1,\n",
       " 'function': 1,\n",
       " 'hash': 4,\n",
       " 'implements': 1,\n",
       " 'in': 1,\n",
       " 'index': 1,\n",
       " 'into': 1,\n",
       " 'is': 1,\n",
       " 'keys': 1,\n",
       " 'map': 2,\n",
       " 'of': 1,\n",
       " 'or': 1,\n",
       " 'slots': 1,\n",
       " 'structure': 2,\n",
       " 'table': 2,\n",
       " 'that': 1,\n",
       " 'the': 1,\n",
       " 'to': 2,\n",
       " 'type,': 1,\n",
       " 'uses': 1,\n",
       " 'value': 1,\n",
       " 'values.': 1,\n",
       " 'which': 2}"
      ]
     },
     "execution_count": 74,
     "metadata": {},
     "output_type": "execute_result"
    }
   ],
   "source": [
    "a_text = 'In computing, a hash table hash map is a data structure which implements an associative array abstract data type, a structure that can map keys to values. A hash table uses a hash function to compute an index into an array of buckets or slots from which the desired value can be found'\n",
    "\n",
    "def count_func(a_text):\n",
    "    some_dict = {}\n",
    "    new_text = a_text.lower().split()\n",
    "    new_text.sort()\n",
    "    \n",
    "    for i in new_text:\n",
    "        some_dict[i] = some_dict.get(i, 0) + 1\n",
    "    return some_dict\n",
    "\n",
    "count_func(a_text)\n"
   ]
  },
  {
   "cell_type": "markdown",
   "metadata": {},
   "source": [
    "## Exercise #3\n",
    "\n",
    "Write a program to implement a Linear Search Algorithm. Also in a comment, write the Time Complexity of the following algorithm.\n",
    "\n",
    "#### Hint: Linear Searching will require searching a list for a given number. "
   ]
  },
  {
   "cell_type": "code",
   "execution_count": 88,
   "metadata": {},
   "outputs": [
    {
     "name": "stdout",
     "output_type": "stream",
     "text": [
      "The index for target element 5 is 4.\n",
      "The index for target element 10 is 9.\n",
      "Target element 15 does not exist in the list.\n",
      "Target element 20 does not exist in the list.\n"
     ]
    }
   ],
   "source": [
    "# Linear Search time complexity: O(n)\n",
    "def linear_search(a_list, target):\n",
    "    for index, element in enumerate(a_list):\n",
    "        if element == target:\n",
    "            return f'The index for target element {target} is {index}.'\n",
    "    return f'Target element {target} does not exist in the list.'\n",
    "\n",
    "sample_list = [x for x in range(1,11)]\n",
    "\n",
    "print(linear_search(sample_list, 5))\n",
    "print(linear_search(sample_list, 10))\n",
    "print(linear_search(sample_list, 15))\n",
    "print(linear_search(sample_list, 20))\n"
   ]
  }
 ],
 "metadata": {
  "kernelspec": {
   "display_name": "Python 3 (ipykernel)",
   "language": "python",
   "name": "python3"
  },
  "language_info": {
   "codemirror_mode": {
    "name": "ipython",
    "version": 3
   },
   "file_extension": ".py",
   "mimetype": "text/x-python",
   "name": "python",
   "nbconvert_exporter": "python",
   "pygments_lexer": "ipython3",
   "version": "3.9.13"
  }
 },
 "nbformat": 4,
 "nbformat_minor": 2
}
