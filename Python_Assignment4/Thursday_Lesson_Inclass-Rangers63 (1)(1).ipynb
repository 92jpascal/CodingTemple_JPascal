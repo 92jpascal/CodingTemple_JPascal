{
 "cells": [
  {
   "cell_type": "markdown",
   "metadata": {},
   "source": [
    "# Exercises"
   ]
  },
  {
   "cell_type": "markdown",
   "metadata": {},
   "source": [
    "### Exercise 1 - Turn the shopping cart program from yesterday into an object-oriented program\n",
    "\n",
    "The comments in the cell below are there as a guide for thinking about the problem. However, if you feel a different way is best for you and your own thought process, please do what feels best for you by all means."
   ]
  },
  {
   "cell_type": "code",
   "execution_count": 2,
   "metadata": {
    "scrolled": true
   },
   "outputs": [
    {
     "name": "stdout",
     "output_type": "stream",
     "text": [
      "What do you want to do? remove\n",
      "The shopping cart is empty.\n",
      "What do you want to do? show\n",
      "The shopping cart is empty.\n",
      "What do you want to do? add\n",
      "What do you want to add to the shopping cart? apples      \n",
      "Apples has been added to the shopping cart.\n",
      "What do you want to do? show\n",
      "Here are the items in the shopping cart:\n",
      "Apples\n",
      "What do you want to do? add\n",
      "What do you want to add to the shopping cart? BANANAS\n",
      "Bananas has been added to the shopping cart.\n",
      "What do you want to do? show\n",
      "Here are the items in the shopping cart:\n",
      "Apples\n",
      "Bananas\n",
      "What do you want to do? REMove an item\n",
      "Please select a valid option.\n",
      "What do you want to do? Remove oNE tEM\n",
      "Please select a valid option.\n",
      "What do you want to do? REMOVE\n",
      "What do you want to remove from the shopping cart? apple\n",
      "Apple does not exist in the shopping cart\n",
      "What do you want to do? remove\n",
      "What do you want to remove from the shopping cart? aPPles\n",
      "Item Apples has been removed from the shopping cart.\n",
      "What do you want to do? quit\n",
      "Here are the items in the shopping cart:\n",
      "Bananas\n"
     ]
    }
   ],
   "source": [
    "# Create a class called cart that retains items and has methods to add, remove, and show\n",
    "\n",
    "class Cart:\n",
    "    def __init__(self):\n",
    "        self.cart_items = []\n",
    "        \n",
    "    def add(self, one_item):\n",
    "        one_item = one_item.title().strip()\n",
    "        self.cart_items.append(one_item)\n",
    "        print(f'{one_item} has been added to the shopping cart.')\n",
    "        \n",
    "    def show(self):\n",
    "        if not self.cart_items:\n",
    "            print('The shopping cart is empty.')\n",
    "        else:\n",
    "            print('Here are the items in the shopping cart:')\n",
    "            for i in range(len(self.cart_items)):\n",
    "                print(self.cart_items[i])\n",
    "            \n",
    "    def remove(self):\n",
    "        if not self.cart_items:\n",
    "            print('The shopping cart is empty.')\n",
    "        else:\n",
    "            remove_item = input('What do you want to remove from the shopping cart? ')\n",
    "            remove_item = remove_item.title().strip()\n",
    "            if remove_item in self.cart_items: \n",
    "                print(f'Item {self.cart_items.pop(self.cart_items.index(remove_item))} has been removed from the shopping cart.')\n",
    "            else:\n",
    "                print(f'{remove_item} does not exist in the shopping cart')\n",
    "\n",
    "a_cart = Cart()\n",
    "while True:\n",
    "    response = input('What do you want to do? ')\n",
    "    \n",
    "    if response.lower() == 'add':\n",
    "        add_item = input('What do you want to add to the shopping cart? ')\n",
    "        a_cart.add(add_item)\n",
    "    \n",
    "    elif response.lower() == 'show':\n",
    "        a_cart.show()\n",
    "        \n",
    "    elif response.lower() == 'remove':\n",
    "        a_cart.remove()\n",
    "        \n",
    "    elif response.lower() == 'quit':\n",
    "        a_cart.show()\n",
    "        break\n",
    "        \n",
    "    else:\n",
    "        print('Please select a valid option.')"
   ]
  },
  {
   "cell_type": "markdown",
   "metadata": {},
   "source": [
    "### Exercise 2 - Write a Python class which has two methods get_String and print_String. get_String accept a string from the user and print_String print the string in upper case"
   ]
  },
  {
   "cell_type": "code",
   "execution_count": 3,
   "metadata": {},
   "outputs": [
    {
     "name": "stdout",
     "output_type": "stream",
     "text": [
      "Please enter a string. test Item THAT WILl be printed\n",
      "Here is the current string: TEST ITEM THAT WILL BE PRINTED\n"
     ]
    }
   ],
   "source": [
    "class SampleClass:\n",
    "    def __init__(self):\n",
    "        self.sample_string = ''\n",
    "    \n",
    "    def get_String(self):\n",
    "        self.sample_string = input('Please enter a string. ').strip()\n",
    "    \n",
    "    def print_String(self):\n",
    "        print('Here is the current string:', self.sample_string.upper())\n",
    "        \n",
    "a_string = SampleClass()\n",
    "a_string.get_String()\n",
    "a_string.print_String()"
   ]
  }
 ],
 "metadata": {
  "kernelspec": {
   "display_name": "Python 3 (ipykernel)",
   "language": "python",
   "name": "python3"
  },
  "language_info": {
   "codemirror_mode": {
    "name": "ipython",
    "version": 3
   },
   "file_extension": ".py",
   "mimetype": "text/x-python",
   "name": "python",
   "nbconvert_exporter": "python",
   "pygments_lexer": "ipython3",
   "version": "3.9.13"
  }
 },
 "nbformat": 4,
 "nbformat_minor": 2
}
