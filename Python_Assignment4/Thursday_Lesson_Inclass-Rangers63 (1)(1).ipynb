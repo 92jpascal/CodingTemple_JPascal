{
 "cells": [
  {
   "cell_type": "markdown",
   "metadata": {},
   "source": [
    "# Object-Oriented-Programming (OOP)"
   ]
  },
  {
   "cell_type": "markdown",
   "metadata": {},
   "source": [
    "## Tasks Today:\n",
    "\n",
    "   \n",
    "\n",
    "1) <b>Creating a Class (Initializing/Declaring)</b> <br>\n",
    "2) <b>Using a Class (Instantiating)</b> <br>\n",
    " &nbsp;&nbsp;&nbsp;&nbsp; a) Creating One Instance <br>\n",
    " &nbsp;&nbsp;&nbsp;&nbsp; b) Creating Multiple Instances <br>\n",
    " &nbsp;&nbsp;&nbsp;&nbsp; c) In-Class Exercise #1 - Create a Class 'Car' and instantiate three different makes of cars <br>\n",
    "3) <b>The \\__init\\__() Method</b> <br>\n",
    " &nbsp;&nbsp;&nbsp;&nbsp; a) The 'self' Attribute <br>\n",
    "4) <b>Class Attributes</b> <br>\n",
    " &nbsp;&nbsp;&nbsp;&nbsp; a) Initializing Attributes <br>\n",
    " &nbsp;&nbsp;&nbsp;&nbsp; b) Setting an Attribute Outside of the \\__init\\__() Method <br>\n",
    " &nbsp;&nbsp;&nbsp;&nbsp; c) Setting Defaults for Attributes <br>\n",
    " &nbsp;&nbsp;&nbsp;&nbsp; d) Accessing Class Attributes <br>\n",
    " &nbsp;&nbsp;&nbsp;&nbsp; e) Changing Class Attributes <br>\n",
    " &nbsp;&nbsp;&nbsp;&nbsp; f) In-Class Exercise #2 - Add a color and wheels attribute to your 'Car' class <br>\n",
    "5) <b>Class Methods</b> <br>\n",
    " &nbsp;&nbsp;&nbsp;&nbsp; a) Creating <br>\n",
    " &nbsp;&nbsp;&nbsp;&nbsp; b) Calling <br>\n",
    " &nbsp;&nbsp;&nbsp;&nbsp; c) Modifying an Attribute's Value Through a Method <br>\n",
    " &nbsp;&nbsp;&nbsp;&nbsp; d) Incrementing an Attribute's Value Through a Method <br>\n",
    " &nbsp;&nbsp;&nbsp;&nbsp; e) In-Class Exercise #3 - Add a method that prints the cars color and wheel number, then call them <br>\n",
    "6) <b>Inheritance</b> <br>\n",
    " &nbsp;&nbsp;&nbsp;&nbsp; a) Syntax for Inheriting from a Parent Class <br>\n",
    " &nbsp;&nbsp;&nbsp;&nbsp; b) The \\__init\\__() Method for a Child Class (super()) <br>\n",
    " &nbsp;&nbsp;&nbsp;&nbsp; c) Defining Attributes and Methods for the Child Class <br>\n",
    " &nbsp;&nbsp;&nbsp;&nbsp; d) Method Overriding <br>\n",
    " &nbsp;&nbsp;&nbsp;&nbsp; e) In-Class Exercise #4 - Create a class 'Ford' that inherits from 'Car' class and initialize it as a Blue Ford Explorer with 4 wheels using the super() method <br>\n",
    "7) <b>Classes as Attributes</b> <br>\n",
    "8) <b>Exercises</b> <br>\n",
    " &nbsp;&nbsp;&nbsp;&nbsp; a) Exercise #1 - Turn the shopping cart program from yesterday into an object-oriented program <br>"
   ]
  },
  {
   "cell_type": "markdown",
   "metadata": {},
   "source": [
    "## Creating a Class (Initializing/Declaring)\n",
    "<p>When creating a class, function, or even a variable you are initializing that object. Initializing and Declaring occur at the same time in Python, whereas in lower level languages you have to declare an object before initializing it. This is the first step in the process of using a class.</p>"
   ]
  },
  {
   "cell_type": "code",
   "execution_count": 1,
   "metadata": {},
   "outputs": [],
   "source": [
    "class Car():\n",
    "    wheels = 4\n",
    "    color = 'blue'"
   ]
  },
  {
   "cell_type": "markdown",
   "metadata": {},
   "source": [
    "## Using a Class (Instantiating)\n",
    "<p>The process of creating a class is called <i>Instantiating</i>. Each time you create a variable of that type of class, it is referred to as an <i>Instance</i> of that class. This is the second step in the process of using a class.</p>"
   ]
  },
  {
   "cell_type": "markdown",
   "metadata": {},
   "source": [
    "##### Creating One Instance"
   ]
  },
  {
   "cell_type": "code",
   "execution_count": 3,
   "metadata": {},
   "outputs": [
    {
     "name": "stdout",
     "output_type": "stream",
     "text": [
      "blue\n"
     ]
    }
   ],
   "source": [
    "ford = Car()\n",
    "print(ford.color)"
   ]
  },
  {
   "cell_type": "markdown",
   "metadata": {},
   "source": [
    "##### Creating Multiple Instances"
   ]
  },
  {
   "cell_type": "code",
   "execution_count": 4,
   "metadata": {},
   "outputs": [],
   "source": [
    "chevrolet = Car()\n",
    "lexus = Car()\n",
    "mazda = Car()"
   ]
  },
  {
   "cell_type": "markdown",
   "metadata": {},
   "source": [
    "##### In-Class Exercise #1 - Create a Class 'Car' and Instantiate three different makes of cars"
   ]
  },
  {
   "cell_type": "code",
   "execution_count": 11,
   "metadata": {},
   "outputs": [
    {
     "name": "stdout",
     "output_type": "stream",
     "text": [
      "The logo for gmc is: personal logo\n",
      "The color for dodge is: orange\n",
      "The engine cylinders in a ferrari are: 8\n",
      "ddddddf\n"
     ]
    }
   ],
   "source": [
    "class Car:\n",
    "    color = 'orange'\n",
    "    logo = 'personal logo'\n",
    "    engine = 8\n",
    "    doors = 10\n",
    "    wheels = 6\n",
    "    \n",
    "    def headlights(self):\n",
    "        print('ddddddf')\n",
    "    \n",
    "gmc = Car()\n",
    "print('The logo for gmc is:', gmc.logo)\n",
    "dodge = Car()\n",
    "print('The color for dodge is:', dodge.color)\n",
    "ferrari = Car()\n",
    "print('The engine cylinders in a ferrari are:', ferrari.engine)\n",
    "ferrari.headlights()"
   ]
  },
  {
   "cell_type": "markdown",
   "metadata": {},
   "source": [
    "## The \\__init\\__() Method <br>\n",
    "<p>This method is used in almost every created class, and called only once upon the creation of the class instance. This method will initialize all variables needed for the object.</p>"
   ]
  },
  {
   "cell_type": "code",
   "execution_count": 12,
   "metadata": {},
   "outputs": [
    {
     "name": "stdout",
     "output_type": "stream",
     "text": [
      "Does the fast car have flight? False\n"
     ]
    }
   ],
   "source": [
    "class Car:\n",
    "    def __init__(self, nitro_boost, flight):\n",
    "        self.nitro_boost = nitro_boost\n",
    "        self.flight = flight\n",
    "        \n",
    "fast_car = Car(True, False)\n",
    "print('Does the fast car have flight?', fast_car.flight)"
   ]
  },
  {
   "cell_type": "markdown",
   "metadata": {},
   "source": [
    "##### The 'self' Attribute <br>\n",
    "<p>This attribute is required to keep track of specific instance's attributes. Without the self attribute, the program would not know how to reference or keep track of an instance's attributes.</p>"
   ]
  },
  {
   "cell_type": "code",
   "execution_count": null,
   "metadata": {},
   "outputs": [],
   "source": [
    "# see above"
   ]
  },
  {
   "cell_type": "markdown",
   "metadata": {},
   "source": [
    "## Class Attributes <br>\n",
    "<p>While variables are inside of a class, they are referred to as attributes and not variables. When someone says 'attribute' you know they're speaking about a class. Attributes can be initialized through the init method, or outside of it.</p>"
   ]
  },
  {
   "cell_type": "markdown",
   "metadata": {},
   "source": [
    "##### Initializing Attributes"
   ]
  },
  {
   "cell_type": "code",
   "execution_count": 16,
   "metadata": {},
   "outputs": [],
   "source": [
    "# see above\n",
    "class Toy:\n",
    "    kind = 'car'\n",
    "    \n",
    "    def __init__(self, rooftop, horns, wheels):\n",
    "        self.rooftop = rooftop\n",
    "        self.horns = horns\n",
    "        self.wheels = wheels\n",
    "        \n",
    "tonka = Toy(132, 1312, 32434)\n",
    "hot_wheels = Toy(99,9999,999999)"
   ]
  },
  {
   "cell_type": "markdown",
   "metadata": {},
   "source": [
    "##### Accessing Class Attributes"
   ]
  },
  {
   "cell_type": "code",
   "execution_count": 17,
   "metadata": {
    "scrolled": true
   },
   "outputs": [
    {
     "name": "stdout",
     "output_type": "stream",
     "text": [
      "The number of horns on the Tonka truck is: 1312\n",
      "The number of wheels on the Hot Wheels car is: 999999\n"
     ]
    }
   ],
   "source": [
    "# See Above\n",
    "print('The number of horns on the Tonka truck is:', tonka.horns)\n",
    "print('The number of wheels on the Hot Wheels car is:', hot_wheels.wheels)"
   ]
  },
  {
   "cell_type": "markdown",
   "metadata": {},
   "source": [
    "##### Setting Defaults for Attributes"
   ]
  },
  {
   "cell_type": "code",
   "execution_count": 19,
   "metadata": {},
   "outputs": [
    {
     "name": "stdout",
     "output_type": "stream",
     "text": [
      "The logo for gmc is: personal logo\n",
      "The color for dodge is: orange\n",
      "The engine cylinders in a ferrari are: 8\n",
      "ddddddf\n"
     ]
    }
   ],
   "source": [
    "class Car:\n",
    "    color = 'orange'\n",
    "    logo = 'personal logo'\n",
    "    engine = 8\n",
    "    doors = 10\n",
    "    wheels = 6\n",
    "    \n",
    "    def headlights(self):\n",
    "        print('ddddddf')\n",
    "    \n",
    "gmc = Car()\n",
    "print('The logo for gmc is:', gmc.logo)\n",
    "dodge = Car()\n",
    "print('The color for dodge is:', dodge.color)\n",
    "ferrari = Car()\n",
    "print('The engine cylinders in a ferrari are:', ferrari.engine)\n",
    "ferrari.headlights()"
   ]
  },
  {
   "cell_type": "markdown",
   "metadata": {},
   "source": [
    "##### Changing Class Attributes <br>\n",
    "<p>Keep in mind there are global class attributes and then there are attributes only available to each class instance which won't effect other classes.</p>"
   ]
  },
  {
   "cell_type": "code",
   "execution_count": 22,
   "metadata": {},
   "outputs": [
    {
     "name": "stdout",
     "output_type": "stream",
     "text": [
      "We will change the logo of all the cars\n",
      "Previous logo for ram: personal logo\n",
      "The logo for the dodge is: personal logo . The logo should not have changed since dodge existed before the change\n",
      "Logo for the ram is: personal logo\n",
      "Logo for the gmc is: sadfdsfdfsfjdasdfsfawd\n",
      "The subaru should have a different logo: personal logo\n"
     ]
    }
   ],
   "source": [
    "ram = Car()\n",
    "print('We will change the logo of all the cars')\n",
    "print('Previous logo for ram:', ram.logo)\n",
    "gmc.logo = 'sadfdsfdfsfjdasdfsfawd'\n",
    "print('The logo for the dodge is:', dodge.logo, '. The logo should not have changed since dodge existed before the change')\n",
    "print('Logo for the ram is:', ram.logo)\n",
    "print('Logo for the gmc is:', gmc.logo)\n",
    "subaru = Car()\n",
    "print('The subaru should have a different logo:', subaru.logo)"
   ]
  },
  {
   "cell_type": "markdown",
   "metadata": {},
   "source": [
    "##### In-Class Exercise #2 - Add a doors and seats attribute to your 'Car' class then print out two different instances with different doors and seats"
   ]
  },
  {
   "cell_type": "code",
   "execution_count": 23,
   "metadata": {},
   "outputs": [
    {
     "name": "stdout",
     "output_type": "stream",
     "text": [
      "The new_car has 4324 seats and 120 doors\n",
      "The a_car has 230432 seats and 2131 doors\n"
     ]
    }
   ],
   "source": [
    "class Car:\n",
    "    color = 'orange'\n",
    "    logo = 'personal logo'\n",
    "    engine = 8\n",
    "    wheels = 4\n",
    "    \n",
    "    def __init__(self, doors, seats):\n",
    "        self.doors = doors\n",
    "        self.seats = seats\n",
    "        \n",
    "new_car = Car(120,4324)\n",
    "a_car = Car(2131,230432)\n",
    "\n",
    "print(f'The new_car has {new_car.seats} seats and {new_car.doors} doors')\n",
    "print(f'The a_car has {a_car.seats} seats and {a_car.doors} doors')"
   ]
  },
  {
   "cell_type": "markdown",
   "metadata": {},
   "source": [
    "## Class Methods <br>\n",
    "<p>While inside of a class, functions are referred to as 'methods'. If you hear someone mention methods, they're speaking about classes. Methods are essentially functions, but only callable on the instances of a class.</p>"
   ]
  },
  {
   "cell_type": "markdown",
   "metadata": {},
   "source": [
    "##### Creating"
   ]
  },
  {
   "cell_type": "code",
   "execution_count": 24,
   "metadata": {},
   "outputs": [
    {
     "name": "stdout",
     "output_type": "stream",
     "text": [
      "rrrrr\n",
      "aaaaa\n",
      "nnnnn\n",
      "ddddd\n",
      "ooooo\n",
      "mmmmm\n",
      "     \n",
      "wwwww\n",
      "ooooo\n",
      "rrrrr\n",
      "ddddd\n"
     ]
    }
   ],
   "source": [
    "class TestClass:\n",
    "    '''\n",
    "        This is a sample test class.\n",
    "        \n",
    "        Attributes for the class:\n",
    "        - is_test: Boolean to indicate whether this is a test class\n",
    "    '''\n",
    "    is_test = True\n",
    "    \n",
    "    def print_words(self):\n",
    "        for i in 'random word':\n",
    "            print(i*5)\n",
    "            \n",
    "test_item = TestClass()"
   ]
  },
  {
   "cell_type": "markdown",
   "metadata": {},
   "source": [
    "##### Calling"
   ]
  },
  {
   "cell_type": "code",
   "execution_count": 25,
   "metadata": {},
   "outputs": [
    {
     "name": "stdout",
     "output_type": "stream",
     "text": [
      "rrrrr\n",
      "aaaaa\n",
      "nnnnn\n",
      "ddddd\n",
      "ooooo\n",
      "mmmmm\n",
      "     \n",
      "wwwww\n",
      "ooooo\n",
      "rrrrr\n",
      "ddddd\n"
     ]
    }
   ],
   "source": [
    "# See Above\n",
    "\n",
    "test_item.print_words()"
   ]
  },
  {
   "cell_type": "markdown",
   "metadata": {},
   "source": [
    "##### Modifying an Attribute's Value Through a Method"
   ]
  },
  {
   "cell_type": "code",
   "execution_count": null,
   "metadata": {},
   "outputs": [],
   "source": []
  },
  {
   "cell_type": "markdown",
   "metadata": {},
   "source": [
    "##### Incrementing an Attribute's Value Through a Method"
   ]
  },
  {
   "cell_type": "code",
   "execution_count": null,
   "metadata": {},
   "outputs": [],
   "source": []
  },
  {
   "cell_type": "markdown",
   "metadata": {},
   "source": [
    "##### In-Class Exercise #3 - Add a method that takes in three parameters of year, doors and seats and prints out a formatted print statement with make, model, year, seats, and doors"
   ]
  },
  {
   "cell_type": "code",
   "execution_count": 26,
   "metadata": {},
   "outputs": [
    {
     "name": "stdout",
     "output_type": "stream",
     "text": [
      "Here is our data:\n",
      "year: 2019\n",
      "doors: 4\n",
      "seats: 5\n"
     ]
    }
   ],
   "source": [
    "# Create class with 2 paramters inside of the __init__ which are make and model\n",
    "\n",
    "# Inside of the Car class create a method that has 4 parameter in total (self,year,door,seats)\n",
    "\n",
    "# Output: This car is from 2019 and is a Ford Expolorer and has 4 doors and 5 seats\n",
    "\n",
    "class NewClass:\n",
    "    def sample_method(self, year, doors, seats):\n",
    "        print(f'Here is our data:\\nyear: {year}\\ndoors: {doors}\\nseats: {seats}')\n",
    "        \n",
    "test_item = NewClass()\n",
    "test_item.sample_method(2019, 4, 5)"
   ]
  },
  {
   "cell_type": "markdown",
   "metadata": {},
   "source": [
    "## Inheritance <br>\n",
    "<p>You can create a child-parent relationship between two classes by using inheritance. What this allows you to do is have overriding methods, but also inherit traits from the parent class. Think of it as an actual parent and child, the child will inherit the parent's genes, as will the classes in OOP</p>"
   ]
  },
  {
   "cell_type": "markdown",
   "metadata": {},
   "source": [
    "##### Syntax for Inheriting from a Parent Class"
   ]
  },
  {
   "cell_type": "code",
   "execution_count": 65,
   "metadata": {},
   "outputs": [
    {
     "name": "stdout",
     "output_type": "stream",
     "text": [
      "Make some generic sound\n",
      "Here is Buster's acceleration: 9.8\n",
      "Here is Buster's speed: 15\n"
     ]
    }
   ],
   "source": [
    "class Animal:\n",
    "    acceleration = 9.8 # m/(second*second)\n",
    "    \n",
    "    def __init__(self, name, species, legs=4):\n",
    "        self.name = name\n",
    "        self.species = species\n",
    "        self.legs = legs\n",
    "        \n",
    "    def makeSound(self):\n",
    "        print('Make some generic sound')\n",
    "\n",
    "# Child class -- Dog\n",
    "class Dog(Animal):\n",
    "    speed = 15\n",
    "    \n",
    "    def printInfo(self):\n",
    "        print(f'A dog has {self.speed}mph in speed and {self.acceleration} acceleration')\n",
    "        \n",
    "# Grandchild class -- Mutt\n",
    "class Mutt(Dog):\n",
    "    color = \"Tan\"\n",
    "    \n",
    "    # override the ANIMAL class __init__ method using the DOG class\n",
    "    def __init__(self, name, species, eye_color, legs=4):\n",
    "        Dog.__init__(self, name, species, legs)\n",
    "        self.eye_color = eye_color\n",
    "        \n",
    "    # override the ANIMAL class makeSound method\n",
    "    def makeSound(self):\n",
    "        noise = \"Bark\"\n",
    "        return noise\n",
    "    \n",
    "lassie = Dog('Lassie', 'Dog') # uses Animal class\n",
    "basic_animal = Animal('Generic Animal Name', 'Generic Animal Species')\n",
    "buster = Mutt('Buster', 'Mutt', 'Brown')\n",
    "\n",
    "buster.makeSound()\n",
    "lassie.makeSound()\n",
    "print(\"Here is Buster's acceleration:\", buster.acceleration)\n",
    "print(\"Here is Buster's speed:\", buster.speed)"
   ]
  },
  {
   "cell_type": "markdown",
   "metadata": {},
   "source": [
    "##### The \\__init\\__() Method for a Child Class - super()"
   ]
  },
  {
   "cell_type": "code",
   "execution_count": 66,
   "metadata": {
    "scrolled": true
   },
   "outputs": [
    {
     "name": "stdout",
     "output_type": "stream",
     "text": [
      "Make some generic sound\n",
      "Here is Buster's acceleration: 9.8\n",
      "Here is Buster's speed: 15\n"
     ]
    }
   ],
   "source": [
    "class Puppy(Dog):\n",
    "    color = 'black and brown'\n",
    "    \n",
    "    # override the Animal class __init__ method (via the Dog class)\n",
    "    def __init__(self, name, species, eye_color, legs=4):\n",
    "        super().__init__(name, species, legs)\n",
    "        self.eye_color = eye_color\n",
    "        \n",
    "    # override the Animal class makeSound method (via the Dog class)\n",
    "    def makeSound(self):\n",
    "        noise = \"Bark\"\n",
    "        return noise\n",
    "    \n",
    "    \n",
    "lassie = Dog('Lassie', 'Dog') # uses Animal class\n",
    "basic_animal = Animal('Generic Animal Name', 'Generic Animal Species')\n",
    "buster = Mutt('Buster', 'Mutt', 'Brown')\n",
    "\n",
    "buster.makeSound()\n",
    "lassie.makeSound()\n",
    "print(\"Here is Buster's acceleration:\", buster.acceleration)\n",
    "print(\"Here is Buster's speed:\", buster.speed)"
   ]
  },
  {
   "cell_type": "markdown",
   "metadata": {},
   "source": [
    "##### Defining Attributes and Methods for the Child Class"
   ]
  },
  {
   "cell_type": "code",
   "execution_count": null,
   "metadata": {},
   "outputs": [],
   "source": [
    "# See Above"
   ]
  },
  {
   "cell_type": "markdown",
   "metadata": {},
   "source": [
    "##### Method Overriding"
   ]
  },
  {
   "cell_type": "code",
   "execution_count": null,
   "metadata": {},
   "outputs": [],
   "source": [
    "# See Above"
   ]
  },
  {
   "cell_type": "markdown",
   "metadata": {},
   "source": [
    "## Classes as Attributes <br>\n",
    "<p>Classes can also be used as attributes within another class. This is useful in situations where you need to keep variables locally stored, instead of globally stored.</p>"
   ]
  },
  {
   "cell_type": "code",
   "execution_count": 10,
   "metadata": {},
   "outputs": [
    {
     "name": "stdout",
     "output_type": "stream",
     "text": [
      "Number of Tesla battery cells: 20\n"
     ]
    },
    {
     "data": {
      "text/plain": [
       "'2019 Tesla Model X 20'"
      ]
     },
     "execution_count": 10,
     "metadata": {},
     "output_type": "execute_result"
    }
   ],
   "source": [
    "class Battery:\n",
    "    volts = 7.8\n",
    "    \n",
    "    def __init__(self, cells):\n",
    "        self.cells = cells\n",
    "        \n",
    "class Car:\n",
    "    def __init__(self, year, make, model, battery):\n",
    "        self.year = year\n",
    "        self.make = make\n",
    "        self.model = model\n",
    "        self.battery = battery\n",
    "        \n",
    "    def printInfo(self):\n",
    "        return f'{self.year} {self.make} {self.model} {self.battery.cells}'\n",
    "        \n",
    "my_battery = Battery(20)\n",
    "\n",
    "tesla = Car(2019, 'Tesla', 'Model X', my_battery)\n",
    "print('Number of Tesla battery cells:', tesla.battery.cells)\n",
    "tesla.printInfo()"
   ]
  },
  {
   "cell_type": "markdown",
   "metadata": {},
   "source": [
    "# Exercises"
   ]
  },
  {
   "cell_type": "markdown",
   "metadata": {},
   "source": [
    "### Exercise 1 - Turn the shopping cart program from yesterday into an object-oriented program\n",
    "\n",
    "The comments in the cell below are there as a guide for thinking about the problem. However, if you feel a different way is best for you and your own thought process, please do what feels best for you by all means."
   ]
  },
  {
   "cell_type": "code",
   "execution_count": 49,
   "metadata": {},
   "outputs": [
    {
     "name": "stdout",
     "output_type": "stream",
     "text": [
      "What do you want to do? add\n",
      "What do you want to add to the shopping cart? baba    ghg\n",
      "Baba    Ghg has been added to the shopping cart.\n",
      "What do you want to do? remove\n",
      "What do you want to remove from the shopping cart? baba    ghg       \n",
      "Item Baba    Ghg has been removed from the shopping cart.\n",
      "What do you want to do? quit\n",
      "The shopping cart is empty.\n"
     ]
    }
   ],
   "source": [
    "# Create a class called cart that retains items and has methods to add, remove, and show\n",
    "\n",
    "class Cart:\n",
    "    def __init__(self):\n",
    "        self.cart_items = []\n",
    "        \n",
    "    def add(self, one_item):\n",
    "        one_item = one_item.title().strip()\n",
    "        self.cart_items.append(one_item)\n",
    "        print(f'{one_item} has been added to the shopping cart.')\n",
    "        \n",
    "    def show(self):\n",
    "        if not self.cart_items:\n",
    "            print('The shopping cart is empty.')\n",
    "        else:\n",
    "            print('Here are the items in the shopping cart:')\n",
    "            for i in range(len(self.cart_items)):\n",
    "                print(self.cart_items[i])\n",
    "            \n",
    "    def remove(self):\n",
    "        if not self.cart_items:\n",
    "            print('The shopping cart is empty.')\n",
    "        else:\n",
    "            remove_item = input('What do you want to remove from the shopping cart? ')\n",
    "            remove_item = remove_item.title().strip()\n",
    "            if remove_item in self.cart_items: \n",
    "                print(f'Item {self.cart_items.pop(self.cart_items.index(remove_item))} has been removed from the shopping cart.')\n",
    "            else:\n",
    "                print(f'{remove_item} does not exist in the shopping cart')\n",
    "\n",
    "a_cart = Cart()\n",
    "while True:\n",
    "    response = input('What do you want to do? ')\n",
    "    \n",
    "    if response.lower() == 'add':\n",
    "        add_item = input('What do you want to add to the shopping cart? ')\n",
    "        a_cart.add(add_item)\n",
    "    \n",
    "    elif response.lower() == 'show':\n",
    "        a_cart.show()\n",
    "        \n",
    "    elif response.lower() == 'remove':\n",
    "        a_cart.remove()\n",
    "        \n",
    "    elif response.lower() == 'quit':\n",
    "        a_cart.show()\n",
    "        break\n",
    "        \n",
    "    else:\n",
    "        print('Please select a valid option.')"
   ]
  },
  {
   "cell_type": "markdown",
   "metadata": {},
   "source": [
    "### Exercise 2 - Write a Python class which has two methods get_String and print_String. get_String accept a string from the user and print_String print the string in upper case"
   ]
  },
  {
   "cell_type": "code",
   "execution_count": 51,
   "metadata": {},
   "outputs": [
    {
     "name": "stdout",
     "output_type": "stream",
     "text": [
      "Please enter a string.    jj aj f d sf jf dsjf sjf dsjdf s fds\n",
      "Here is the current string: JJ AJ F D SF JF DSJF SJF DSJDF S FDS\n"
     ]
    }
   ],
   "source": [
    "class SampleClass:\n",
    "    def __init__(self):\n",
    "        self.sample_string = ''\n",
    "    \n",
    "    def get_String(self):\n",
    "        self.sample_string = input('Please enter a string. ').strip()\n",
    "    \n",
    "    def print_String(self):\n",
    "        print('Here is the current string:', self.sample_string.upper())\n",
    "        \n",
    "a_string = SampleClass()\n",
    "a_string.get_String()\n",
    "a_string.print_String()"
   ]
  }
 ],
 "metadata": {
  "kernelspec": {
   "display_name": "Python 3 (ipykernel)",
   "language": "python",
   "name": "python3"
  },
  "language_info": {
   "codemirror_mode": {
    "name": "ipython",
    "version": 3
   },
   "file_extension": ".py",
   "mimetype": "text/x-python",
   "name": "python",
   "nbconvert_exporter": "python",
   "pygments_lexer": "ipython3",
   "version": "3.9.13"
  }
 },
 "nbformat": 4,
 "nbformat_minor": 2
}
