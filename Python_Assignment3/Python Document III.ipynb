{
 "cells": [
  {
   "cell_type": "markdown",
   "metadata": {},
   "source": [
    "# Exercises"
   ]
  },
  {
   "cell_type": "markdown",
   "metadata": {},
   "source": [
    "### 1) Build a Shopping Cart <br>\n",
    "<p><b>You can use either lists or dictionaries. The program should have the following capabilities:</b><br><br>\n",
    "1) Takes in input <br>\n",
    "2) Stores user input into a dictionary or list <br>\n",
    "3) The User can add or delete items <br>\n",
    "4) The User can see current shopping list <br>\n",
    "5) The program Loops until user 'quits' <br>\n",
    "6) Upon quiting the program, print out all items in the user's list <br>\n",
    "</p>"
   ]
  },
  {
   "cell_type": "code",
   "execution_count": 1,
   "metadata": {},
   "outputs": [
    {
     "name": "stdout",
     "output_type": "stream",
     "text": [
      "What do you want to do? quit\n",
      "The shopping list is empty.\n"
     ]
    }
   ],
   "source": [
    "from IPython.display import clear_output\n",
    "\n",
    "# Ask the user four bits of input: Do you want to : Show/Add/Delete or Quit?\n",
    "list_items = []\n",
    "\n",
    "while True:\n",
    "    user_input = input('What do you want to do? ')\n",
    "    \n",
    "    if user_input.lower() == 'delete':\n",
    "        if not list_items:\n",
    "            print('The shopping cart is empty.')\n",
    "        else:\n",
    "            delete_item = input('What do you want to delete from the list? ')\n",
    "            if delete_item not in list_items:\n",
    "                print(f'{delete_item} is not in the list.')\n",
    "            else:\n",
    "                print(f'{delete_item} has been deleted from the shopping list.')\n",
    "    elif user_input.lower() == 'display':\n",
    "        print('Here are the current items in the shopping cart:')\n",
    "        for index in range(len(list_items)):\n",
    "            print(list_items[index])\n",
    "    elif user_input.lower() == 'add':\n",
    "        user_input = input('What do you want to add? ')\n",
    "        list_items.append(user_input)\n",
    "        print(user_input.title(), 'has been added to the shopping list.')\n",
    "    elif user_input.lower() == 'quit':\n",
    "        if not list_items:\n",
    "            print('The shopping list is empty.')\n",
    "            break\n",
    "        else:\n",
    "            print('Here are the current items in the shopping list:')\n",
    "            while list_items:\n",
    "                print(list_items.pop())\n",
    "            break\n",
    "    else:\n",
    "        print('Please select a valid option.')"
   ]
  },
  {
   "cell_type": "markdown",
   "metadata": {},
   "source": [
    "### 2) Create a Module in VS Code and Import It into jupyter notebook <br>\n",
    "<p><b>Module should have the following capabilities:</b><br><br>\n",
    "1) Has a function to calculate the square footage of a house <br>\n",
    "    <b>Reminder of Formula: Length X Width == Area<br>\n",
    "        <hr>\n",
    "2) Has a function to calculate the circumference of a circle <br><br>\n",
    "<b>Program in Jupyter Notebook should take in user input and use imported functions to calculate a circle's circumference or a houses square footage</b>\n",
    "</p>"
   ]
  },
  {
   "cell_type": "code",
   "execution_count": 18,
   "metadata": {},
   "outputs": [
    {
     "name": "stdout",
     "output_type": "stream",
     "text": [
      "Square footage length? 123\n",
      "Square footage width? 12312\n",
      "\n",
      "Square footage of a 123 x 12312 home? 1514376\n",
      "\n",
      "Radius of circle to calculate circumference? 423432\n",
      "Circumference of a circle with a radius of 423432? 2660502\n"
     ]
    }
   ],
   "source": [
    "import sample_module\n",
    "from math import ceil\n",
    "\n",
    "length_footage = input('Square footage length? ')\n",
    "while not length_footage.isnumeric():\n",
    "    print('Please enter an integer value for the square footage length.')\n",
    "    length_footage = input('Square footage length? ')\n",
    "\n",
    "width_footage = input('Square footage width? ')\n",
    "while not width_footage.isnumeric():\n",
    "    print('Please enter an integer value for the square footage width.')\n",
    "    width_footage = input('Square footage width? ')\n",
    "\n",
    "print()\n",
    "print(f'Square footage of a {length_footage} x {width_footage} home? ', end='')\n",
    "print(ceil(sample_module.square_footage(int(length_footage),int(width_footage))))\n",
    "\n",
    "print()\n",
    "circle_radius = input('Radius of circle to calculate circumference? ')\n",
    "while not circle_radius.isnumeric():\n",
    "    print('Please enter an integer value for the square footage width.')\n",
    "    circle_radius = input('Radius of circle to calculate circumference? ')\n",
    "    \n",
    "print(f'Circumference of a circle with a radius of {circle_radius}? ',  end='')\n",
    "print(round(sample_module.cirle_circumference(int(circle_radius))))"
   ]
  }
 ],
 "metadata": {
  "kernelspec": {
   "display_name": "Python 3 (ipykernel)",
   "language": "python",
   "name": "python3"
  },
  "language_info": {
   "codemirror_mode": {
    "name": "ipython",
    "version": 3
   },
   "file_extension": ".py",
   "mimetype": "text/x-python",
   "name": "python",
   "nbconvert_exporter": "python",
   "pygments_lexer": "ipython3",
   "version": "3.9.13"
  }
 },
 "nbformat": 4,
 "nbformat_minor": 2
}
